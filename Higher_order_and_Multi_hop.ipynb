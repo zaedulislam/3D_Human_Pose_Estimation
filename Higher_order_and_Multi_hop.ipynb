{
  "nbformat": 4,
  "nbformat_minor": 0,
  "metadata": {
    "colab": {
      "provenance": [],
      "authorship_tag": "ABX9TyN3sGIC1Fir8JU+tsqHyQrD",
      "include_colab_link": true
    },
    "kernelspec": {
      "name": "python3",
      "display_name": "Python 3"
    },
    "language_info": {
      "name": "python"
    }
  },
  "cells": [
    {
      "cell_type": "markdown",
      "metadata": {
        "id": "view-in-github",
        "colab_type": "text"
      },
      "source": [
        "<a href=\"https://colab.research.google.com/github/zaedulislam/3D_Human_Pose_Estimation/blob/main/Higher_order_and_Multi_hop.ipynb\" target=\"_parent\"><img src=\"https://colab.research.google.com/assets/colab-badge.svg\" alt=\"Open In Colab\"/></a>"
      ]
    },
    {
      "cell_type": "markdown",
      "source": [
        "## Install Libraries"
      ],
      "metadata": {
        "id": "znnz0FhGUmkS"
      }
    },
    {
      "cell_type": "code",
      "source": [
        "!pip install 'networkx<2.7'\n",
        "!pip install 'scipy>=1.8'"
      ],
      "metadata": {
        "colab": {
          "base_uri": "https://localhost:8080/"
        },
        "id": "vQ5IJ9eFUic7",
        "outputId": "fe619f55-c60f-44c2-9093-1fe56eb4e772"
      },
      "execution_count": null,
      "outputs": [
        {
          "output_type": "stream",
          "name": "stdout",
          "text": [
            "Looking in indexes: https://pypi.org/simple, https://us-python.pkg.dev/colab-wheels/public/simple/\n",
            "Requirement already satisfied: networkx<2.7 in /usr/local/lib/python3.8/dist-packages (2.6.3)\n",
            "Looking in indexes: https://pypi.org/simple, https://us-python.pkg.dev/colab-wheels/public/simple/\n",
            "Requirement already satisfied: scipy>=1.8 in /usr/local/lib/python3.8/dist-packages (1.10.0)\n",
            "Requirement already satisfied: numpy<1.27.0,>=1.19.5 in /usr/local/lib/python3.8/dist-packages (from scipy>=1.8) (1.21.6)\n"
          ]
        }
      ]
    },
    {
      "cell_type": "markdown",
      "source": [
        "## Import Libraries"
      ],
      "metadata": {
        "id": "8gUYB2qWl1Ce"
      }
    },
    {
      "cell_type": "code",
      "source": [
        "import torch\n",
        "import matplotlib.pyplot as plt\n",
        "import numpy as np\n",
        "import networkx as nx\n",
        "import scipy"
      ],
      "metadata": {
        "id": "JyegkF4q-LRQ"
      },
      "execution_count": null,
      "outputs": []
    },
    {
      "cell_type": "markdown",
      "source": [
        "## Skeleton Graph"
      ],
      "metadata": {
        "id": "rSCGGoZQl5vJ"
      }
    },
    {
      "cell_type": "markdown",
      "source": [
        "### Skeleton Edges"
      ],
      "metadata": {
        "id": "4espLZzulHcY"
      }
    },
    {
      "cell_type": "code",
      "source": [
        "neighbour_base = [(0, 1), (1, 2), (2, 3), (0, 4), (4, 5), (5, 6),\n",
        "                  (0, 7), (7, 8), (8, 9), (8, 10), (10, 11),\n",
        "                  (12, 11), (8, 13), (13, 14), (14, 15)]"
      ],
      "metadata": {
        "id": "amg7ZI06jdNo"
      },
      "execution_count": null,
      "outputs": []
    },
    {
      "cell_type": "markdown",
      "source": [
        "### Creating skeleton graph"
      ],
      "metadata": {
        "id": "ZLaO1Qn0mAuG"
      }
    },
    {
      "cell_type": "code",
      "source": [
        "G = nx.Graph(neighbour_base)"
      ],
      "metadata": {
        "id": "FEgD_sJ_jkbG"
      },
      "execution_count": null,
      "outputs": []
    },
    {
      "cell_type": "markdown",
      "source": [
        "### Adjacency matrix of skeleton (G)"
      ],
      "metadata": {
        "id": "sdbH64x3mOxe"
      }
    },
    {
      "cell_type": "code",
      "source": [
        "A = nx.adjacency_matrix(G)\n",
        "print(A)"
      ],
      "metadata": {
        "colab": {
          "base_uri": "https://localhost:8080/"
        },
        "id": "YPuYGYlKmGlV",
        "outputId": "abc81cbc-2b41-4c5c-b716-c8463ad3c8ea"
      },
      "execution_count": null,
      "outputs": [
        {
          "output_type": "stream",
          "name": "stdout",
          "text": [
            "  (0, 1)\t1\n",
            "  (0, 4)\t1\n",
            "  (0, 7)\t1\n",
            "  (1, 0)\t1\n",
            "  (1, 2)\t1\n",
            "  (2, 1)\t1\n",
            "  (2, 3)\t1\n",
            "  (3, 2)\t1\n",
            "  (4, 0)\t1\n",
            "  (4, 5)\t1\n",
            "  (5, 4)\t1\n",
            "  (5, 6)\t1\n",
            "  (6, 5)\t1\n",
            "  (7, 0)\t1\n",
            "  (7, 8)\t1\n",
            "  (8, 7)\t1\n",
            "  (8, 9)\t1\n",
            "  (8, 10)\t1\n",
            "  (8, 13)\t1\n",
            "  (9, 8)\t1\n",
            "  (10, 8)\t1\n",
            "  (10, 11)\t1\n",
            "  (11, 10)\t1\n",
            "  (11, 12)\t1\n",
            "  (12, 11)\t1\n",
            "  (13, 8)\t1\n",
            "  (13, 14)\t1\n",
            "  (14, 13)\t1\n",
            "  (14, 15)\t1\n",
            "  (15, 14)\t1\n"
          ]
        }
      ]
    },
    {
      "cell_type": "code",
      "source": [
        "A = A.todense()\n",
        "print(\"Adjacency matrix representation of G:\\n\", A)"
      ],
      "metadata": {
        "colab": {
          "base_uri": "https://localhost:8080/"
        },
        "id": "uK__NnNNmv14",
        "outputId": "6c631edc-9b86-4f49-aa1b-5ae9c8c03d62"
      },
      "execution_count": null,
      "outputs": [
        {
          "output_type": "stream",
          "name": "stdout",
          "text": [
            "Adjacency matrix representation of G:\n",
            " [[0 1 0 0 1 0 0 1 0 0 0 0 0 0 0 0]\n",
            " [1 0 1 0 0 0 0 0 0 0 0 0 0 0 0 0]\n",
            " [0 1 0 1 0 0 0 0 0 0 0 0 0 0 0 0]\n",
            " [0 0 1 0 0 0 0 0 0 0 0 0 0 0 0 0]\n",
            " [1 0 0 0 0 1 0 0 0 0 0 0 0 0 0 0]\n",
            " [0 0 0 0 1 0 1 0 0 0 0 0 0 0 0 0]\n",
            " [0 0 0 0 0 1 0 0 0 0 0 0 0 0 0 0]\n",
            " [1 0 0 0 0 0 0 0 1 0 0 0 0 0 0 0]\n",
            " [0 0 0 0 0 0 0 1 0 1 1 0 0 1 0 0]\n",
            " [0 0 0 0 0 0 0 0 1 0 0 0 0 0 0 0]\n",
            " [0 0 0 0 0 0 0 0 1 0 0 1 0 0 0 0]\n",
            " [0 0 0 0 0 0 0 0 0 0 1 0 1 0 0 0]\n",
            " [0 0 0 0 0 0 0 0 0 0 0 1 0 0 0 0]\n",
            " [0 0 0 0 0 0 0 0 1 0 0 0 0 0 1 0]\n",
            " [0 0 0 0 0 0 0 0 0 0 0 0 0 1 0 1]\n",
            " [0 0 0 0 0 0 0 0 0 0 0 0 0 0 1 0]]\n"
          ]
        }
      ]
    },
    {
      "cell_type": "markdown",
      "source": [
        "### Drawing skeleton graph"
      ],
      "metadata": {
        "id": "eN-M5dTzns0I"
      }
    },
    {
      "cell_type": "code",
      "source": [
        "options = {\n",
        "    # 'node_color': 'black',\n",
        "    'node_size': 700,\n",
        "    'width': 3,\n",
        "}\n",
        "nx.draw(G, with_labels=True, font_weight='bold', **options)"
      ],
      "metadata": {
        "colab": {
          "base_uri": "https://localhost:8080/",
          "height": 319
        },
        "id": "aRAGhMpKkSGS",
        "outputId": "fe1b55d8-33d0-458c-836b-eb9ca1b10beb"
      },
      "execution_count": null,
      "outputs": [
        {
          "output_type": "display_data",
          "data": {
            "text/plain": [
              "<Figure size 432x288 with 1 Axes>"
            ],
            "image/png": "[encoded data removed]"
          },
          "metadata": {}
        }
      ]
    },
    {
      "cell_type": "code",
      "source": [
        "def draw_graph(G):\n",
        "    options = {\n",
        "        # 'node_color': 'black',\n",
        "        'node_size': 700,\n",
        "        'width': 3,\n",
        "    }   \n",
        "    nx.draw(G, with_labels=True, font_weight='bold', **options)"
      ],
      "metadata": {
        "id": "ckRj-8ySuC7M"
      },
      "execution_count": null,
      "outputs": []
    },
    {
      "cell_type": "markdown",
      "source": [
        "## Utility Functions"
      ],
      "metadata": {
        "id": "OPgyJrR-wR8h"
      }
    },
    {
      "cell_type": "code",
      "source": [
        "def adjacency_to_graph(adjacency_matrix):\n",
        "    G = nx.Graph(adjacency_matrix, nodetype=int)\n",
        "    return G"
      ],
      "metadata": {
        "id": "rdaRZDpWwloZ"
      },
      "execution_count": null,
      "outputs": []
    },
    {
      "cell_type": "code",
      "source": [
        "def find_path(G,u,n):\n",
        "    if n==0:\n",
        "        return [[u]]\n",
        "    paths = [[u]+path for neighbor in G.neighbors(u) for path in find_path(G,neighbor,n-1) if u not in path]\n",
        "\n",
        "    return paths"
      ],
      "metadata": {
        "id": "7CJ4twEurqb9"
      },
      "execution_count": null,
      "outputs": []
    },
    {
      "cell_type": "code",
      "source": [
        "def get_k_adjacency(A, k, with_self=False, self_factor=1):\n",
        "    I = np.eye(len(A), dtype=A.dtype)\n",
        "\n",
        "    if k == 0:\n",
        "        return I\n",
        "\n",
        "    Ak = np.minimum(np.linalg.matrix_power(A + I, k), 1) \\\n",
        "       - np.minimum(np.linalg.matrix_power(A + I, k - 1), 1)\n",
        "\n",
        "    if with_self:\n",
        "        Ak += (self_factor * I)\n",
        "        \n",
        "    return Ak"
      ],
      "metadata": {
        "id": "JcGlhx29WpVm"
      },
      "execution_count": null,
      "outputs": []
    },
    {
      "cell_type": "markdown",
      "source": [
        "## Higher-order Matrix\n",
        "Number of walks of length *k* between node *i* and *j*"
      ],
      "metadata": {
        "id": "H5osjXjeG-f2"
      }
    },
    {
      "cell_type": "markdown",
      "source": [
        "### First-order adjacency matrix (Aˆ1)"
      ],
      "metadata": {
        "id": "1qB7Lb5qAL0e"
      }
    },
    {
      "cell_type": "code",
      "source": [
        "A_1 = A\n",
        "print(A_1)"
      ],
      "metadata": {
        "colab": {
          "base_uri": "https://localhost:8080/"
        },
        "id": "oSXfwCqr_TRG",
        "outputId": "427b9622-8a42-4b2e-8713-f0b2b6b7b79c"
      },
      "execution_count": null,
      "outputs": [
        {
          "output_type": "stream",
          "name": "stdout",
          "text": [
            "[[0 1 0 0 1 0 0 1 0 0 0 0 0 0 0 0]\n",
            " [1 0 1 0 0 0 0 0 0 0 0 0 0 0 0 0]\n",
            " [0 1 0 1 0 0 0 0 0 0 0 0 0 0 0 0]\n",
            " [0 0 1 0 0 0 0 0 0 0 0 0 0 0 0 0]\n",
            " [1 0 0 0 0 1 0 0 0 0 0 0 0 0 0 0]\n",
            " [0 0 0 0 1 0 1 0 0 0 0 0 0 0 0 0]\n",
            " [0 0 0 0 0 1 0 0 0 0 0 0 0 0 0 0]\n",
            " [1 0 0 0 0 0 0 0 1 0 0 0 0 0 0 0]\n",
            " [0 0 0 0 0 0 0 1 0 1 1 0 0 1 0 0]\n",
            " [0 0 0 0 0 0 0 0 1 0 0 0 0 0 0 0]\n",
            " [0 0 0 0 0 0 0 0 1 0 0 1 0 0 0 0]\n",
            " [0 0 0 0 0 0 0 0 0 0 1 0 1 0 0 0]\n",
            " [0 0 0 0 0 0 0 0 0 0 0 1 0 0 0 0]\n",
            " [0 0 0 0 0 0 0 0 1 0 0 0 0 0 1 0]\n",
            " [0 0 0 0 0 0 0 0 0 0 0 0 0 1 0 1]\n",
            " [0 0 0 0 0 0 0 0 0 0 0 0 0 0 1 0]]\n"
          ]
        }
      ]
    },
    {
      "cell_type": "markdown",
      "source": [
        "### Second-order adjacency matrix (Aˆ2) "
      ],
      "metadata": {
        "id": "biNXNUxGATK5"
      }
    },
    {
      "cell_type": "code",
      "source": [
        "A_2 = np.matmul(A_1, A_1)\n",
        "print(A_2)"
      ],
      "metadata": {
        "colab": {
          "base_uri": "https://localhost:8080/"
        },
        "id": "KWmy5jdQ_TQG",
        "outputId": "b6f7fa7c-254c-4df9-c310-37a12e82b974"
      },
      "execution_count": null,
      "outputs": [
        {
          "output_type": "stream",
          "name": "stdout",
          "text": [
            "[[3 0 1 0 0 1 0 0 1 0 0 0 0 0 0 0]\n",
            " [0 2 0 1 1 0 0 1 0 0 0 0 0 0 0 0]\n",
            " [1 0 2 0 0 0 0 0 0 0 0 0 0 0 0 0]\n",
            " [0 1 0 1 0 0 0 0 0 0 0 0 0 0 0 0]\n",
            " [0 1 0 0 2 0 1 1 0 0 0 0 0 0 0 0]\n",
            " [1 0 0 0 0 2 0 0 0 0 0 0 0 0 0 0]\n",
            " [0 0 0 0 1 0 1 0 0 0 0 0 0 0 0 0]\n",
            " [0 1 0 0 1 0 0 2 0 1 1 0 0 1 0 0]\n",
            " [1 0 0 0 0 0 0 0 4 0 0 1 0 0 1 0]\n",
            " [0 0 0 0 0 0 0 1 0 1 1 0 0 1 0 0]\n",
            " [0 0 0 0 0 0 0 1 0 1 2 0 1 1 0 0]\n",
            " [0 0 0 0 0 0 0 0 1 0 0 2 0 0 0 0]\n",
            " [0 0 0 0 0 0 0 0 0 0 1 0 1 0 0 0]\n",
            " [0 0 0 0 0 0 0 1 0 1 1 0 0 2 0 1]\n",
            " [0 0 0 0 0 0 0 0 1 0 0 0 0 0 2 0]\n",
            " [0 0 0 0 0 0 0 0 0 0 0 0 0 1 0 1]]\n"
          ]
        }
      ]
    },
    {
      "cell_type": "markdown",
      "source": [
        "### Third-order adjacency matrix (Aˆ3)"
      ],
      "metadata": {
        "id": "wc2SxWKxD4vZ"
      }
    },
    {
      "cell_type": "code",
      "source": [
        "A_3 = np.matmul(A_2, A_1)\n",
        "print(A_3)"
      ],
      "metadata": {
        "colab": {
          "base_uri": "https://localhost:8080/"
        },
        "id": "1I7jE6o9D7QZ",
        "outputId": "9b4a3ae7-2593-430b-939b-fd0c4b8f5839"
      },
      "execution_count": null,
      "outputs": [
        {
          "output_type": "stream",
          "name": "stdout",
          "text": [
            "[[0 4 0 1 4 0 1 4 0 1 1 0 0 1 0 0]\n",
            " [4 0 3 0 0 1 0 0 1 0 0 0 0 0 0 0]\n",
            " [0 3 0 2 1 0 0 1 0 0 0 0 0 0 0 0]\n",
            " [1 0 2 0 0 0 0 0 0 0 0 0 0 0 0 0]\n",
            " [4 0 1 0 0 3 0 0 1 0 0 0 0 0 0 0]\n",
            " [0 1 0 0 3 0 2 1 0 0 0 0 0 0 0 0]\n",
            " [1 0 0 0 0 2 0 0 0 0 0 0 0 0 0 0]\n",
            " [4 0 1 0 0 1 0 0 5 0 0 1 0 0 1 0]\n",
            " [0 1 0 0 1 0 0 5 0 4 5 0 1 5 0 1]\n",
            " [1 0 0 0 0 0 0 0 4 0 0 1 0 0 1 0]\n",
            " [1 0 0 0 0 0 0 0 5 0 0 3 0 0 1 0]\n",
            " [0 0 0 0 0 0 0 1 0 1 3 0 2 1 0 0]\n",
            " [0 0 0 0 0 0 0 0 1 0 0 2 0 0 0 0]\n",
            " [1 0 0 0 0 0 0 0 5 0 0 1 0 0 3 0]\n",
            " [0 0 0 0 0 0 0 1 0 1 1 0 0 3 0 2]\n",
            " [0 0 0 0 0 0 0 0 1 0 0 0 0 0 2 0]]\n"
          ]
        }
      ]
    },
    {
      "cell_type": "markdown",
      "source": [
        "### Fourth-order adjacency matrix (Aˆ4)"
      ],
      "metadata": {
        "id": "Yzv7al2SH8c2"
      }
    },
    {
      "cell_type": "code",
      "source": [
        "A_4 = np.matmul(A_3, A_1)\n",
        "print(A_4)"
      ],
      "metadata": {
        "id": "BXnaMf4NH-X7",
        "colab": {
          "base_uri": "https://localhost:8080/"
        },
        "outputId": "331efec1-82d5-45d5-eaff-8268ac27f252"
      },
      "execution_count": null,
      "outputs": [
        {
          "output_type": "stream",
          "name": "stdout",
          "text": [
            "[[12  0  5  0  0  5  0  0  7  0  0  1  0  0  1  0]\n",
            " [ 0  7  0  3  5  0  1  5  0  1  1  0  0  1  0  0]\n",
            " [ 5  0  5  0  0  1  0  0  1  0  0  0  0  0  0  0]\n",
            " [ 0  3  0  2  1  0  0  1  0  0  0  0  0  0  0  0]\n",
            " [ 0  5  0  1  7  0  3  5  0  1  1  0  0  1  0  0]\n",
            " [ 5  0  1  0  0  5  0  0  1  0  0  0  0  0  0  0]\n",
            " [ 0  1  0  0  3  0  2  1  0  0  0  0  0  0  0  0]\n",
            " [ 0  5  0  1  5  0  1  9  0  5  6  0  1  6  0  1]\n",
            " [ 7  0  1  0  0  1  0  0 19  0  0  6  0  0  6  0]\n",
            " [ 0  1  0  0  1  0  0  5  0  4  5  0  1  5  0  1]\n",
            " [ 0  1  0  0  1  0  0  6  0  5  8  0  3  6  0  1]\n",
            " [ 1  0  0  0  0  0  0  0  6  0  0  5  0  0  1  0]\n",
            " [ 0  0  0  0  0  0  0  1  0  1  3  0  2  1  0  0]\n",
            " [ 0  1  0  0  1  0  0  6  0  5  6  0  1  8  0  3]\n",
            " [ 1  0  0  0  0  0  0  0  6  0  0  1  0  0  5  0]\n",
            " [ 0  0  0  0  0  0  0  1  0  1  1  0  0  3  0  2]]\n"
          ]
        }
      ]
    },
    {
      "cell_type": "markdown",
      "source": [
        "## Multi-hop Neighborhood"
      ],
      "metadata": {
        "id": "jeODrAI-HCU6"
      }
    },
    {
      "cell_type": "markdown",
      "source": [
        "### 1-hop Neighborhood"
      ],
      "metadata": {
        "id": "yBUZpnJHHHQO"
      }
    },
    {
      "cell_type": "code",
      "source": [
        "A1 = A\n",
        "print(A1)"
      ],
      "metadata": {
        "colab": {
          "base_uri": "https://localhost:8080/"
        },
        "id": "_CjS7WcNHKF9",
        "outputId": "a0625e03-13f4-438f-9024-cd3dccfb97a5"
      },
      "execution_count": null,
      "outputs": [
        {
          "output_type": "stream",
          "name": "stdout",
          "text": [
            "[[0 1 0 0 1 0 0 1 0 0 0 0 0 0 0 0]\n",
            " [1 0 1 0 0 0 0 0 0 0 0 0 0 0 0 0]\n",
            " [0 1 0 1 0 0 0 0 0 0 0 0 0 0 0 0]\n",
            " [0 0 1 0 0 0 0 0 0 0 0 0 0 0 0 0]\n",
            " [1 0 0 0 0 1 0 0 0 0 0 0 0 0 0 0]\n",
            " [0 0 0 0 1 0 1 0 0 0 0 0 0 0 0 0]\n",
            " [0 0 0 0 0 1 0 0 0 0 0 0 0 0 0 0]\n",
            " [1 0 0 0 0 0 0 0 1 0 0 0 0 0 0 0]\n",
            " [0 0 0 0 0 0 0 1 0 1 1 0 0 1 0 0]\n",
            " [0 0 0 0 0 0 0 0 1 0 0 0 0 0 0 0]\n",
            " [0 0 0 0 0 0 0 0 1 0 0 1 0 0 0 0]\n",
            " [0 0 0 0 0 0 0 0 0 0 1 0 1 0 0 0]\n",
            " [0 0 0 0 0 0 0 0 0 0 0 1 0 0 0 0]\n",
            " [0 0 0 0 0 0 0 0 1 0 0 0 0 0 1 0]\n",
            " [0 0 0 0 0 0 0 0 0 0 0 0 0 1 0 1]\n",
            " [0 0 0 0 0 0 0 0 0 0 0 0 0 0 1 0]]\n"
          ]
        }
      ]
    },
    {
      "cell_type": "code",
      "source": [
        "A1_G = adjacency_to_graph(A1)\n",
        "for node in range(16):\n",
        "    print(\"1-hop neighbor of \" + str(node) + \": \", find_path(A1_G, node, 1))\n",
        "\n",
        "draw_graph(A1_G)"
      ],
      "metadata": {
        "colab": {
          "base_uri": "https://localhost:8080/",
          "height": 591
        },
        "id": "AkFRLqT8b-l8",
        "outputId": "97fd3e15-b6eb-42c0-9e97-f0fde030fefc"
      },
      "execution_count": null,
      "outputs": [
        {
          "output_type": "stream",
          "name": "stdout",
          "text": [
            "1-hop neighbor of 0:  [[0, 1], [0, 4], [0, 7]]\n",
            "1-hop neighbor of 1:  [[1, 0], [1, 2]]\n",
            "1-hop neighbor of 2:  [[2, 1], [2, 3]]\n",
            "1-hop neighbor of 3:  [[3, 2]]\n",
            "1-hop neighbor of 4:  [[4, 0], [4, 5]]\n",
            "1-hop neighbor of 5:  [[5, 4], [5, 6]]\n",
            "1-hop neighbor of 6:  [[6, 5]]\n",
            "1-hop neighbor of 7:  [[7, 0], [7, 8]]\n",
            "1-hop neighbor of 8:  [[8, 7], [8, 9], [8, 10], [8, 13]]\n",
            "1-hop neighbor of 9:  [[9, 8]]\n",
            "1-hop neighbor of 10:  [[10, 8], [10, 11]]\n",
            "1-hop neighbor of 11:  [[11, 10], [11, 12]]\n",
            "1-hop neighbor of 12:  [[12, 11]]\n",
            "1-hop neighbor of 13:  [[13, 8], [13, 14]]\n",
            "1-hop neighbor of 14:  [[14, 13], [14, 15]]\n",
            "1-hop neighbor of 15:  [[15, 14]]\n"
          ]
        },
        {
          "output_type": "display_data",
          "data": {
            "text/plain": [
              "<Figure size 432x288 with 1 Axes>"
            ],
            "image/png": "[encoded data removed]"
          },
          "metadata": {}
        }
      ]
    },
    {
      "cell_type": "markdown",
      "source": [
        "### 2-hop Neighborhood"
      ],
      "metadata": {
        "id": "BYWrjd6xHMqg"
      }
    },
    {
      "cell_type": "code",
      "source": [
        "A2 = get_k_adjacency(A, 2)\n",
        "print(A2)"
      ],
      "metadata": {
        "colab": {
          "base_uri": "https://localhost:8080/"
        },
        "id": "wZrRfkrRHRej",
        "outputId": "a097420d-d18c-424a-957f-00ab36f32ac9"
      },
      "execution_count": null,
      "outputs": [
        {
          "output_type": "stream",
          "name": "stdout",
          "text": [
            "[[0 0 1 0 0 1 0 0 1 0 0 0 0 0 0 0]\n",
            " [0 0 0 1 1 0 0 1 0 0 0 0 0 0 0 0]\n",
            " [1 0 0 0 0 0 0 0 0 0 0 0 0 0 0 0]\n",
            " [0 1 0 0 0 0 0 0 0 0 0 0 0 0 0 0]\n",
            " [0 1 0 0 0 0 1 1 0 0 0 0 0 0 0 0]\n",
            " [1 0 0 0 0 0 0 0 0 0 0 0 0 0 0 0]\n",
            " [0 0 0 0 1 0 0 0 0 0 0 0 0 0 0 0]\n",
            " [0 1 0 0 1 0 0 0 0 1 1 0 0 1 0 0]\n",
            " [1 0 0 0 0 0 0 0 0 0 0 1 0 0 1 0]\n",
            " [0 0 0 0 0 0 0 1 0 0 1 0 0 1 0 0]\n",
            " [0 0 0 0 0 0 0 1 0 1 0 0 1 1 0 0]\n",
            " [0 0 0 0 0 0 0 0 1 0 0 0 0 0 0 0]\n",
            " [0 0 0 0 0 0 0 0 0 0 1 0 0 0 0 0]\n",
            " [0 0 0 0 0 0 0 1 0 1 1 0 0 0 0 1]\n",
            " [0 0 0 0 0 0 0 0 1 0 0 0 0 0 0 0]\n",
            " [0 0 0 0 0 0 0 0 0 0 0 0 0 1 0 0]]\n"
          ]
        }
      ]
    },
    {
      "cell_type": "code",
      "source": [
        "A1_G = adjacency_to_graph(A1)\n",
        "for node in range(16):\n",
        "    print(\"2-hop neighbor of \" + str(node) + \": \", find_path(A1_G, node, 2))\n",
        "\n",
        "draw_graph(A1_G)"
      ],
      "metadata": {
        "colab": {
          "base_uri": "https://localhost:8080/",
          "height": 591
        },
        "id": "KAOKmDeoe-mW",
        "outputId": "aea38dce-0adf-4304-b9bd-e55caf06800a"
      },
      "execution_count": null,
      "outputs": [
        {
          "output_type": "stream",
          "name": "stdout",
          "text": [
            "2-hop neighbor of 0:  [[0, 1, 2], [0, 4, 5], [0, 7, 8]]\n",
            "2-hop neighbor of 1:  [[1, 0, 4], [1, 0, 7], [1, 2, 3]]\n",
            "2-hop neighbor of 2:  [[2, 1, 0]]\n",
            "2-hop neighbor of 3:  [[3, 2, 1]]\n",
            "2-hop neighbor of 4:  [[4, 0, 1], [4, 0, 7], [4, 5, 6]]\n",
            "2-hop neighbor of 5:  [[5, 4, 0]]\n",
            "2-hop neighbor of 6:  [[6, 5, 4]]\n",
            "2-hop neighbor of 7:  [[7, 0, 1], [7, 0, 4], [7, 8, 9], [7, 8, 10], [7, 8, 13]]\n",
            "2-hop neighbor of 8:  [[8, 7, 0], [8, 10, 11], [8, 13, 14]]\n",
            "2-hop neighbor of 9:  [[9, 8, 7], [9, 8, 10], [9, 8, 13]]\n",
            "2-hop neighbor of 10:  [[10, 8, 7], [10, 8, 9], [10, 8, 13], [10, 11, 12]]\n",
            "2-hop neighbor of 11:  [[11, 10, 8]]\n",
            "2-hop neighbor of 12:  [[12, 11, 10]]\n",
            "2-hop neighbor of 13:  [[13, 8, 7], [13, 8, 9], [13, 8, 10], [13, 14, 15]]\n",
            "2-hop neighbor of 14:  [[14, 13, 8]]\n",
            "2-hop neighbor of 15:  [[15, 14, 13]]\n"
          ]
        },
        {
          "output_type": "display_data",
          "data": {
            "text/plain": [
              "<Figure size 432x288 with 1 Axes>"
            ],
            "image/png": "[encoded data removed]"
          },
          "metadata": {}
        }
      ]
    },
    {
      "cell_type": "markdown",
      "source": [
        "### 3-hop Neighborhood"
      ],
      "metadata": {
        "id": "0dQG3LG-HpMN"
      }
    },
    {
      "cell_type": "code",
      "source": [
        "A3 = get_k_adjacency(A, 3)\n",
        "print(A3)"
      ],
      "metadata": {
        "id": "f8QvVEuGHoTH",
        "colab": {
          "base_uri": "https://localhost:8080/"
        },
        "outputId": "32ecbfc2-407d-4fc7-acbc-10bc939825d1"
      },
      "execution_count": null,
      "outputs": [
        {
          "output_type": "stream",
          "name": "stdout",
          "text": [
            "[[0 0 0 1 0 0 1 0 0 1 1 0 0 1 0 0]\n",
            " [0 0 0 0 0 1 0 0 1 0 0 0 0 0 0 0]\n",
            " [0 0 0 0 1 0 0 1 0 0 0 0 0 0 0 0]\n",
            " [1 0 0 0 0 0 0 0 0 0 0 0 0 0 0 0]\n",
            " [0 0 1 0 0 0 0 0 1 0 0 0 0 0 0 0]\n",
            " [0 1 0 0 0 0 0 1 0 0 0 0 0 0 0 0]\n",
            " [1 0 0 0 0 0 0 0 0 0 0 0 0 0 0 0]\n",
            " [0 0 1 0 0 1 0 0 0 0 0 1 0 0 1 0]\n",
            " [0 1 0 0 1 0 0 0 0 0 0 0 1 0 0 1]\n",
            " [1 0 0 0 0 0 0 0 0 0 0 1 0 0 1 0]\n",
            " [1 0 0 0 0 0 0 0 0 0 0 0 0 0 1 0]\n",
            " [0 0 0 0 0 0 0 1 0 1 0 0 0 1 0 0]\n",
            " [0 0 0 0 0 0 0 0 1 0 0 0 0 0 0 0]\n",
            " [1 0 0 0 0 0 0 0 0 0 0 1 0 0 0 0]\n",
            " [0 0 0 0 0 0 0 1 0 1 1 0 0 0 0 0]\n",
            " [0 0 0 0 0 0 0 0 1 0 0 0 0 0 0 0]]\n"
          ]
        }
      ]
    },
    {
      "cell_type": "code",
      "source": [
        "A1_G = adjacency_to_graph(A1)\n",
        "for node in range(16):\n",
        "    print(\"3-hop neighbor of \" + str(node) + \": \", find_path(A1_G, node, 3))\n",
        "\n",
        "draw_graph(A1_G)"
      ],
      "metadata": {
        "colab": {
          "base_uri": "https://localhost:8080/",
          "height": 591
        },
        "id": "qg_tMrlydbzD",
        "outputId": "16726843-cfbf-4eef-b8fd-a78f050fc5de"
      },
      "execution_count": null,
      "outputs": [
        {
          "output_type": "stream",
          "name": "stdout",
          "text": [
            "Three-hop neighbor of 0:  [[0, 1, 2, 3], [0, 4, 5, 6], [0, 7, 8, 9], [0, 7, 8, 10], [0, 7, 8, 13]]\n",
            "Three-hop neighbor of 1:  [[1, 0, 4, 5], [1, 0, 7, 8]]\n",
            "Three-hop neighbor of 2:  [[2, 1, 0, 4], [2, 1, 0, 7]]\n",
            "Three-hop neighbor of 3:  [[3, 2, 1, 0]]\n",
            "Three-hop neighbor of 4:  [[4, 0, 1, 2], [4, 0, 7, 8]]\n",
            "Three-hop neighbor of 5:  [[5, 4, 0, 1], [5, 4, 0, 7]]\n",
            "Three-hop neighbor of 6:  [[6, 5, 4, 0]]\n",
            "Three-hop neighbor of 7:  [[7, 0, 1, 2], [7, 0, 4, 5], [7, 8, 10, 11], [7, 8, 13, 14]]\n",
            "Three-hop neighbor of 8:  [[8, 7, 0, 1], [8, 7, 0, 4], [8, 10, 11, 12], [8, 13, 14, 15]]\n",
            "Three-hop neighbor of 9:  [[9, 8, 7, 0], [9, 8, 10, 11], [9, 8, 13, 14]]\n",
            "Three-hop neighbor of 10:  [[10, 8, 7, 0], [10, 8, 13, 14]]\n",
            "Three-hop neighbor of 11:  [[11, 10, 8, 7], [11, 10, 8, 9], [11, 10, 8, 13]]\n",
            "Three-hop neighbor of 12:  [[12, 11, 10, 8]]\n",
            "Three-hop neighbor of 13:  [[13, 8, 7, 0], [13, 8, 10, 11]]\n",
            "Three-hop neighbor of 14:  [[14, 13, 8, 7], [14, 13, 8, 9], [14, 13, 8, 10]]\n",
            "Three-hop neighbor of 15:  [[15, 14, 13, 8]]\n"
          ]
        },
        {
          "output_type": "display_data",
          "data": {
            "text/plain": [
              "<Figure size 432x288 with 1 Axes>"
            ],
            "image/png": "[encoded data removed]"
          },
          "metadata": {}
        }
      ]
    },
    {
      "cell_type": "markdown",
      "source": [
        "### 4-hop Neighborhood"
      ],
      "metadata": {
        "id": "k6ZIzwv3HyCA"
      }
    },
    {
      "cell_type": "code",
      "source": [
        "A4 = get_k_adjacency(A, 4)\n",
        "print(A4)"
      ],
      "metadata": {
        "id": "Tc4FsSVdH0bY",
        "colab": {
          "base_uri": "https://localhost:8080/"
        },
        "outputId": "f68298b9-121e-47a5-951c-b01aff783513"
      },
      "execution_count": null,
      "outputs": [
        {
          "output_type": "stream",
          "name": "stdout",
          "text": [
            "[[0 0 0 0 0 0 0 0 0 0 0 1 0 0 1 0]\n",
            " [0 0 0 0 0 0 1 0 0 1 1 0 0 1 0 0]\n",
            " [0 0 0 0 0 1 0 0 1 0 0 0 0 0 0 0]\n",
            " [0 0 0 0 1 0 0 1 0 0 0 0 0 0 0 0]\n",
            " [0 0 0 1 0 0 0 0 0 1 1 0 0 1 0 0]\n",
            " [0 0 1 0 0 0 0 0 1 0 0 0 0 0 0 0]\n",
            " [0 1 0 0 0 0 0 1 0 0 0 0 0 0 0 0]\n",
            " [0 0 0 1 0 0 1 0 0 0 0 0 1 0 0 1]\n",
            " [0 0 1 0 0 1 0 0 0 0 0 0 0 0 0 0]\n",
            " [0 1 0 0 1 0 0 0 0 0 0 0 1 0 0 1]\n",
            " [0 1 0 0 1 0 0 0 0 0 0 0 0 0 0 1]\n",
            " [1 0 0 0 0 0 0 0 0 0 0 0 0 0 1 0]\n",
            " [0 0 0 0 0 0 0 1 0 1 0 0 0 1 0 0]\n",
            " [0 1 0 0 1 0 0 0 0 0 0 0 1 0 0 0]\n",
            " [1 0 0 0 0 0 0 0 0 0 0 1 0 0 0 0]\n",
            " [0 0 0 0 0 0 0 1 0 1 1 0 0 0 0 0]]\n"
          ]
        }
      ]
    },
    {
      "cell_type": "code",
      "source": [
        "A1_G = adjacency_to_graph(A1)\n",
        "for node in range(16):\n",
        "    print(\"4-hop neighbor of \" + str(node) + \": \", find_path(A1_G, node, 4))\n",
        "\n",
        "draw_graph(A1_G)"
      ],
      "metadata": {
        "colab": {
          "base_uri": "https://localhost:8080/",
          "height": 591
        },
        "id": "4hRkqP2ad_w2",
        "outputId": "c8262bfc-d0ac-4f03-9f93-8d0fe2bc0248"
      },
      "execution_count": null,
      "outputs": [
        {
          "output_type": "stream",
          "name": "stdout",
          "text": [
            "4-hop neighbor of 0:  [[0, 7, 8, 10, 11], [0, 7, 8, 13, 14]]\n",
            "4-hop neighbor of 1:  [[1, 0, 4, 5, 6], [1, 0, 7, 8, 9], [1, 0, 7, 8, 10], [1, 0, 7, 8, 13]]\n",
            "4-hop neighbor of 2:  [[2, 1, 0, 4, 5], [2, 1, 0, 7, 8]]\n",
            "4-hop neighbor of 3:  [[3, 2, 1, 0, 4], [3, 2, 1, 0, 7]]\n",
            "4-hop neighbor of 4:  [[4, 0, 1, 2, 3], [4, 0, 7, 8, 9], [4, 0, 7, 8, 10], [4, 0, 7, 8, 13]]\n",
            "4-hop neighbor of 5:  [[5, 4, 0, 1, 2], [5, 4, 0, 7, 8]]\n",
            "4-hop neighbor of 6:  [[6, 5, 4, 0, 1], [6, 5, 4, 0, 7]]\n",
            "4-hop neighbor of 7:  [[7, 0, 1, 2, 3], [7, 0, 4, 5, 6], [7, 8, 10, 11, 12], [7, 8, 13, 14, 15]]\n",
            "4-hop neighbor of 8:  [[8, 7, 0, 1, 2], [8, 7, 0, 4, 5]]\n",
            "4-hop neighbor of 9:  [[9, 8, 7, 0, 1], [9, 8, 7, 0, 4], [9, 8, 10, 11, 12], [9, 8, 13, 14, 15]]\n",
            "4-hop neighbor of 10:  [[10, 8, 7, 0, 1], [10, 8, 7, 0, 4], [10, 8, 13, 14, 15]]\n",
            "4-hop neighbor of 11:  [[11, 10, 8, 7, 0], [11, 10, 8, 13, 14]]\n",
            "4-hop neighbor of 12:  [[12, 11, 10, 8, 7], [12, 11, 10, 8, 9], [12, 11, 10, 8, 13]]\n",
            "4-hop neighbor of 13:  [[13, 8, 7, 0, 1], [13, 8, 7, 0, 4], [13, 8, 10, 11, 12]]\n",
            "4-hop neighbor of 14:  [[14, 13, 8, 7, 0], [14, 13, 8, 10, 11]]\n",
            "4-hop neighbor of 15:  [[15, 14, 13, 8, 7], [15, 14, 13, 8, 9], [15, 14, 13, 8, 10]]\n"
          ]
        },
        {
          "output_type": "display_data",
          "data": {
            "text/plain": [
              "<Figure size 432x288 with 1 Axes>"
            ],
            "image/png": "[encoded data removed]"
          },
          "metadata": {}
        }
      ]
    },
    {
      "cell_type": "markdown",
      "source": [
        "### 5-hop Neighborhood"
      ],
      "metadata": {
        "id": "Bc7XXa06trGZ"
      }
    },
    {
      "cell_type": "code",
      "source": [
        "A5 = get_k_adjacency(A, 5)\n",
        "print(A5)"
      ],
      "metadata": {
        "colab": {
          "base_uri": "https://localhost:8080/"
        },
        "id": "IPs4f9UtttsT",
        "outputId": "6f709614-b96d-419f-cb77-d17d4f14c5bd"
      },
      "execution_count": null,
      "outputs": [
        {
          "output_type": "stream",
          "name": "stdout",
          "text": [
            "[[0 0 0 0 0 0 0 0 0 0 0 0 1 0 0 1]\n",
            " [0 0 0 0 0 0 0 0 0 0 0 1 0 0 1 0]\n",
            " [0 0 0 0 0 0 1 0 0 1 1 0 0 1 0 0]\n",
            " [0 0 0 0 0 1 0 0 1 0 0 0 0 0 0 0]\n",
            " [0 0 0 0 0 0 0 0 0 0 0 1 0 0 1 0]\n",
            " [0 0 0 1 0 0 0 0 0 1 1 0 0 1 0 0]\n",
            " [0 0 1 0 0 0 0 0 1 0 0 0 0 0 0 0]\n",
            " [0 0 0 0 0 0 0 0 0 0 0 0 0 0 0 0]\n",
            " [0 0 0 1 0 0 1 0 0 0 0 0 0 0 0 0]\n",
            " [0 0 1 0 0 1 0 0 0 0 0 0 0 0 0 0]\n",
            " [0 0 1 0 0 1 0 0 0 0 0 0 0 0 0 0]\n",
            " [0 1 0 0 1 0 0 0 0 0 0 0 0 0 0 1]\n",
            " [1 0 0 0 0 0 0 0 0 0 0 0 0 0 1 0]\n",
            " [0 0 1 0 0 1 0 0 0 0 0 0 0 0 0 0]\n",
            " [0 1 0 0 1 0 0 0 0 0 0 0 1 0 0 0]\n",
            " [1 0 0 0 0 0 0 0 0 0 0 1 0 0 0 0]]\n"
          ]
        }
      ]
    },
    {
      "cell_type": "code",
      "source": [
        "A1_G = adjacency_to_graph(A1)\n",
        "for node in range(16):\n",
        "    print(\"5-hop neighbor of \" + str(node) + \": \", find_path(A1_G, node, 5))\n",
        "\n",
        "draw_graph(A1_G)"
      ],
      "metadata": {
        "colab": {
          "base_uri": "https://localhost:8080/",
          "height": 591
        },
        "id": "wHZJ6bhneEU6",
        "outputId": "bb0f707b-56eb-4856-ed58-e33390cce798"
      },
      "execution_count": null,
      "outputs": [
        {
          "output_type": "stream",
          "name": "stdout",
          "text": [
            "Three-hop neighbor of 0:  [[0, 7, 8, 10, 11, 12], [0, 7, 8, 13, 14, 15]]\n",
            "Three-hop neighbor of 1:  [[1, 0, 7, 8, 10, 11], [1, 0, 7, 8, 13, 14]]\n",
            "Three-hop neighbor of 2:  [[2, 1, 0, 4, 5, 6], [2, 1, 0, 7, 8, 9], [2, 1, 0, 7, 8, 10], [2, 1, 0, 7, 8, 13]]\n",
            "Three-hop neighbor of 3:  [[3, 2, 1, 0, 4, 5], [3, 2, 1, 0, 7, 8]]\n",
            "Three-hop neighbor of 4:  [[4, 0, 7, 8, 10, 11], [4, 0, 7, 8, 13, 14]]\n",
            "Three-hop neighbor of 5:  [[5, 4, 0, 1, 2, 3], [5, 4, 0, 7, 8, 9], [5, 4, 0, 7, 8, 10], [5, 4, 0, 7, 8, 13]]\n",
            "Three-hop neighbor of 6:  [[6, 5, 4, 0, 1, 2], [6, 5, 4, 0, 7, 8]]\n",
            "Three-hop neighbor of 7:  []\n",
            "Three-hop neighbor of 8:  [[8, 7, 0, 1, 2, 3], [8, 7, 0, 4, 5, 6]]\n",
            "Three-hop neighbor of 9:  [[9, 8, 7, 0, 1, 2], [9, 8, 7, 0, 4, 5]]\n",
            "Three-hop neighbor of 10:  [[10, 8, 7, 0, 1, 2], [10, 8, 7, 0, 4, 5]]\n",
            "Three-hop neighbor of 11:  [[11, 10, 8, 7, 0, 1], [11, 10, 8, 7, 0, 4], [11, 10, 8, 13, 14, 15]]\n",
            "Three-hop neighbor of 12:  [[12, 11, 10, 8, 7, 0], [12, 11, 10, 8, 13, 14]]\n",
            "Three-hop neighbor of 13:  [[13, 8, 7, 0, 1, 2], [13, 8, 7, 0, 4, 5]]\n",
            "Three-hop neighbor of 14:  [[14, 13, 8, 7, 0, 1], [14, 13, 8, 7, 0, 4], [14, 13, 8, 10, 11, 12]]\n",
            "Three-hop neighbor of 15:  [[15, 14, 13, 8, 7, 0], [15, 14, 13, 8, 10, 11]]\n"
          ]
        },
        {
          "output_type": "display_data",
          "data": {
            "text/plain": [
              "<Figure size 432x288 with 1 Axes>"
            ],
            "image/png": "[encoded data removed]"
          },
          "metadata": {}
        }
      ]
    },
    {
      "cell_type": "code",
      "source": [
        "k = 3\n",
        "I = np.eye(len(A), dtype=A.dtype)\n",
        "\n",
        "# if k == 0:\n",
        "#     return I\n",
        "\n",
        "Ak = np.minimum(np.linalg.matrix_power(A + I, k), 1) - np.minimum(np.linalg.matrix_power(A + I, k - 1), 1)\n",
        "\n",
        "print(\"Aˆ2:\\n\", np.minimum(np.linalg.matrix_power(A, k), 1))\n",
        "print(\"Aˆ1:\\n\", np.minimum(np.linalg.matrix_power(A, k - 1), 1))\n",
        "\n",
        "print(\"Aˆ2 - Aˆ1:\\n\", Ak)\n",
        "\n",
        "# if with_self:\n",
        "#     Ak += (self_factor * I)\n",
        "    \n",
        "# return Ak"
      ],
      "metadata": {
        "colab": {
          "base_uri": "https://localhost:8080/"
        },
        "id": "iBiR2jAxhTZY",
        "outputId": "8e2f7748-eb6c-414f-adc7-f0298b4ef4b9"
      },
      "execution_count": null,
      "outputs": [
        {
          "output_type": "stream",
          "name": "stdout",
          "text": [
            "Aˆ2:\n",
            " [[0 1 0 1 1 0 1 1 0 1 1 0 0 1 0 0]\n",
            " [1 0 1 0 0 1 0 0 1 0 0 0 0 0 0 0]\n",
            " [0 1 0 1 1 0 0 1 0 0 0 0 0 0 0 0]\n",
            " [1 0 1 0 0 0 0 0 0 0 0 0 0 0 0 0]\n",
            " [1 0 1 0 0 1 0 0 1 0 0 0 0 0 0 0]\n",
            " [0 1 0 0 1 0 1 1 0 0 0 0 0 0 0 0]\n",
            " [1 0 0 0 0 1 0 0 0 0 0 0 0 0 0 0]\n",
            " [1 0 1 0 0 1 0 0 1 0 0 1 0 0 1 0]\n",
            " [0 1 0 0 1 0 0 1 0 1 1 0 1 1 0 1]\n",
            " [1 0 0 0 0 0 0 0 1 0 0 1 0 0 1 0]\n",
            " [1 0 0 0 0 0 0 0 1 0 0 1 0 0 1 0]\n",
            " [0 0 0 0 0 0 0 1 0 1 1 0 1 1 0 0]\n",
            " [0 0 0 0 0 0 0 0 1 0 0 1 0 0 0 0]\n",
            " [1 0 0 0 0 0 0 0 1 0 0 1 0 0 1 0]\n",
            " [0 0 0 0 0 0 0 1 0 1 1 0 0 1 0 1]\n",
            " [0 0 0 0 0 0 0 0 1 0 0 0 0 0 1 0]]\n",
            "Aˆ1:\n",
            " [[1 0 1 0 0 1 0 0 1 0 0 0 0 0 0 0]\n",
            " [0 1 0 1 1 0 0 1 0 0 0 0 0 0 0 0]\n",
            " [1 0 1 0 0 0 0 0 0 0 0 0 0 0 0 0]\n",
            " [0 1 0 1 0 0 0 0 0 0 0 0 0 0 0 0]\n",
            " [0 1 0 0 1 0 1 1 0 0 0 0 0 0 0 0]\n",
            " [1 0 0 0 0 1 0 0 0 0 0 0 0 0 0 0]\n",
            " [0 0 0 0 1 0 1 0 0 0 0 0 0 0 0 0]\n",
            " [0 1 0 0 1 0 0 1 0 1 1 0 0 1 0 0]\n",
            " [1 0 0 0 0 0 0 0 1 0 0 1 0 0 1 0]\n",
            " [0 0 0 0 0 0 0 1 0 1 1 0 0 1 0 0]\n",
            " [0 0 0 0 0 0 0 1 0 1 1 0 1 1 0 0]\n",
            " [0 0 0 0 0 0 0 0 1 0 0 1 0 0 0 0]\n",
            " [0 0 0 0 0 0 0 0 0 0 1 0 1 0 0 0]\n",
            " [0 0 0 0 0 0 0 1 0 1 1 0 0 1 0 1]\n",
            " [0 0 0 0 0 0 0 0 1 0 0 0 0 0 1 0]\n",
            " [0 0 0 0 0 0 0 0 0 0 0 0 0 1 0 1]]\n",
            "Aˆ2 - Aˆ1:\n",
            " [[0 0 0 1 0 0 1 0 0 1 1 0 0 1 0 0]\n",
            " [0 0 0 0 0 1 0 0 1 0 0 0 0 0 0 0]\n",
            " [0 0 0 0 1 0 0 1 0 0 0 0 0 0 0 0]\n",
            " [1 0 0 0 0 0 0 0 0 0 0 0 0 0 0 0]\n",
            " [0 0 1 0 0 0 0 0 1 0 0 0 0 0 0 0]\n",
            " [0 1 0 0 0 0 0 1 0 0 0 0 0 0 0 0]\n",
            " [1 0 0 0 0 0 0 0 0 0 0 0 0 0 0 0]\n",
            " [0 0 1 0 0 1 0 0 0 0 0 1 0 0 1 0]\n",
            " [0 1 0 0 1 0 0 0 0 0 0 0 1 0 0 1]\n",
            " [1 0 0 0 0 0 0 0 0 0 0 1 0 0 1 0]\n",
            " [1 0 0 0 0 0 0 0 0 0 0 0 0 0 1 0]\n",
            " [0 0 0 0 0 0 0 1 0 1 0 0 0 1 0 0]\n",
            " [0 0 0 0 0 0 0 0 1 0 0 0 0 0 0 0]\n",
            " [1 0 0 0 0 0 0 0 0 0 0 1 0 0 0 0]\n",
            " [0 0 0 0 0 0 0 1 0 1 1 0 0 0 0 0]\n",
            " [0 0 0 0 0 0 0 0 1 0 0 0 0 0 0 0]]\n"
          ]
        }
      ]
    },
    {
      "cell_type": "markdown",
      "source": [
        "# Ignore the Following"
      ],
      "metadata": {
        "id": "rb3QL2Pvuv8N"
      }
    },
    {
      "cell_type": "code",
      "source": [
        "import networkx as nx\n",
        "import numpy as np\n",
        "\n",
        "pos = np.random.rand(10, 2) #coordinates, (x, y) for 10 nodes\n",
        "print(pos)\n",
        "\n",
        "connect = [tuple(np.random.random_integers(0, 9, size=(2))) for x in range(8)] #random connections\n",
        "print(len(connect))\n",
        "#creation of the graph\n",
        "graph = nx.Graph()\n",
        "#adding nodes/connections in the graph\n",
        "for node in range(len(pos)):\n",
        "    graph.add_node(node)\n",
        "graph.add_edges_from(connect)\n",
        "\n",
        "#plot of the nodes using the (x,y) pairs as coordinates\n",
        "nx.draw(graph, [(x,y) for x,y in pos], node_size=50)"
      ],
      "metadata": {
        "id": "0PNw5pJOITjb"
      },
      "execution_count": null,
      "outputs": []
    },
    {
      "cell_type": "markdown",
      "source": [],
      "metadata": {
        "id": "0if9rNiBLNO4"
      }
    },
    {
      "cell_type": "code",
      "source": [
        "import networkx as nx\n",
        "import numpy as np\n",
        "import matplotlib.pyplot as plt\n",
        "from scipy.linalg import fractional_matrix_power\n",
        "\n",
        "import warnings\n",
        "warnings.filterwarnings(\"ignore\", category=UserWarning)\n",
        "\n",
        "\n",
        "#Initialize the graph\n",
        "G = nx.Graph(name='G')\n",
        "\n",
        "#Create nodes\n",
        "#In this example, the graph will consist of 6 nodes.\n",
        "#Each node is assigned node feature which corresponds to the node name\n",
        "for i in range(16):\n",
        "    G.add_node(i, name=i)\n",
        "\n",
        "\n",
        "#Define the edges and the edges to the graph\n",
        "neighbour_base = [(1, 2), (2, 3), (3, 4), (1, 5), (5, 6), (6, 7),\n",
        "                    (1, 8), (8, 9), (9, 10), (9, 11), (11, 12),\n",
        "                    (13, 12), (9, 14), (14, 15), (15, 16)]\n",
        "\n",
        "G.add_edges_from(neighbour_base)\n",
        "\n",
        "#See graph info\n",
        "# print('Graph Info:\\n', nx.info(G))\n",
        "\n",
        "#Inspect the node features\n",
        "print('\\nGraph Nodes: ', G.nodes.data())\n",
        "\n",
        "#Plot the graph\n",
        "nx.draw(G, with_labels=True, font_weight='bold')\n",
        "plt.show()"
      ],
      "metadata": {
        "id": "OVk2qaXPLNmy"
      },
      "execution_count": null,
      "outputs": []
    }
  ]
}